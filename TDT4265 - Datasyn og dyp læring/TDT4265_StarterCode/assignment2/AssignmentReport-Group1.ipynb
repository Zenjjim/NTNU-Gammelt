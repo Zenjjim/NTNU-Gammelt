{
 "cells": [
  {
   "cell_type": "markdown",
   "metadata": {},
   "source": [
    "# Assignment 1 Report"
   ]
  },
  {
   "cell_type": "markdown",
   "metadata": {},
   "source": [
    "This is an outline for your report to ease the amount of work required to create your report. Jupyter notebook supports markdown, and I recommend you to check out this [cheat sheet](https://github.com/adam-p/markdown-here/wiki/Markdown-Cheatsheet). If you are not familiar with markdown.\n",
    "\n",
    "Before delivery, **remember to convert this file to PDF**. You can do it in two ways:\n",
    "1. Print the webpage (ctrl+P or cmd+P)\n",
    "2. Export with latex. This is somewhat more difficult, but you'll get somehwat of a \"prettier\" PDF. Go to File -> Download as -> PDF via LaTeX. You might have to install nbconvert and pandoc through conda; `conda install nbconvert pandoc`."
   ]
  },
  {
   "cell_type": "markdown",
   "metadata": {},
   "source": [
    "# Task 1"
   ]
  },
  {
   "cell_type": "markdown",
   "metadata": {},
   "source": [
    "## task 1a)\n",
    "![](task1a.jpg)"
   ]
  },
  {
   "cell_type": "markdown",
   "metadata": {},
   "source": [
    "## task 1a)\n",
    "![](task1b.jpg)"
   ]
  },
  {
   "cell_type": "markdown",
   "metadata": {},
   "source": [
    "# Task 2"
   ]
  },
  {
   "cell_type": "markdown",
   "metadata": {},
   "source": [
    "## Task 2a)\n",
    "mean: 33.55274553571429\n",
    "\n",
    "standard deviation: 78.87550070784701"
   ]
  },
  {
   "cell_type": "markdown",
   "metadata": {},
   "source": [
    "## Task 2c)\n",
    "![](task2c_train_loss.png)"
   ]
  },
  {
   "cell_type": "markdown",
   "metadata": {},
   "source": [
    "## Task 2d)\n",
    "( 28 * 28 + 1 ) * 64 + 64 * 10 = 50880"
   ]
  },
  {
   "cell_type": "markdown",
   "metadata": {},
   "source": [
    "# Task 3"
   ]
  },
  {
   "cell_type": "markdown",
   "metadata": {},
   "source": [
    "![](task3.png)\n",
    "We can clearly see that the loss is improved greatly from task 2 without any enhancements. Task 3c finishes a lot faster and has a lower loss then any other graph which shows that the improved sigmoid, improved weights and momentum really boosted the model. The same can be said for the accuracy as the momentum and improved sigmoid are almost as equal in accuracy but the momentum has fewer training steps"
   ]
  },
  {
   "cell_type": "markdown",
   "metadata": {},
   "source": [
    "# Task 4"
   ]
  },
  {
   "cell_type": "markdown",
   "metadata": {},
   "source": [
    "## Task 4a) \n",
    "![](task4ab.png)\n",
    "As we can see32 hidden units has a higer loss with more noice and a lot less accuracy. However we can also observe that is is a lot faster model to train."
   ]
  },
  {
   "cell_type": "markdown",
   "metadata": {},
   "source": [
    "## Task 4b)\n",
    "On the other hand 128 has almost the same loss (almost 0) but better accuracy. Unfortunetly it also requries a bit longer to train but not a drastic change. We can also see almost no noise compared to 64 when approacing minimal loss."
   ]
  },
  {
   "cell_type": "markdown",
   "metadata": {},
   "source": [
    "## Task 4d)\n",
    "( 28 * 28 + 1 ) * 64 + 64 * 10 = 50880\n",
    "\n",
    "Find two hidden layer size:\n",
    "\n",
    "( 28 * 28 + 1 ) * x + x * x + x * 10 = 50880\n",
    "\n",
    "x^2 + 795x - 50880 = 0\n",
    "\n",
    "x = 59.5 ≈ 60\n",
    "\n",
    "I end up using 60 units in each of the layers.\n",
    "\n",
    "`neurons_per_layer = [60,60,10]`\n",
    "\n",
    "( 28 * 28 + 1 ) * 60 + 60 * 60 + 60 * 10 = 50770\n",
    "\n",
    "\n",
    "![](task4d.png)\n",
    "\n",
    "Looks like both models are similar but 2 layers is faster to train compared to 1 layer. \n",
    "\n",
    "This might come from the fact that two layers has fewer parameters then 1 layer.\n",
    "\n",
    "We can also see that two layers accuracy has more spikes when and performs a little worse\n"
   ]
  },
  {
   "cell_type": "markdown",
   "metadata": {},
   "source": [
    "## Task 4e)\n",
    "![](task4e.png)\n",
    "\n",
    "On the other hand 10 layer model does accieve a better accuracy both takes a long time to achive this and has a lot more noise (spikes). The loss is a lot worse as well and this might come from that early stopping is not kicking in, maybe because of the amount of the small increases in loss over time."
   ]
  }
 ],
 "metadata": {
  "kernelspec": {
   "display_name": "Python 3.8.1 64-bit ('py38': conda)",
   "language": "python",
   "name": "python38164bitpy38condac1f68ca5407a4349b0d7e37676f2fbb3"
  },
  "language_info": {
   "codemirror_mode": {
    "name": "ipython",
    "version": 3
   },
   "file_extension": ".py",
   "mimetype": "text/x-python",
   "name": "python",
   "nbconvert_exporter": "python",
   "pygments_lexer": "ipython3",
   "version": "3.8.1"
  }
 },
 "nbformat": 4,
 "nbformat_minor": 4
}
